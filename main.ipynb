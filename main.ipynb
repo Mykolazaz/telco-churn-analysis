{
 "cells": [
  {
   "cell_type": "markdown",
   "id": "ec2bcd95",
   "metadata": {},
   "source": [
    "# Analysing Telco Company's Customer Churn Rate\n",
    "\n",
    "- The goal of this project is to analyse the customer base of the given telco company and to predict the probability of churn.\n",
    "\n",
    "- The dataset was created by IBM and contains information about services provided to 7043 customers in California in Q3. A more detailed description is available on [IBM's website](https://community.ibm.com/community/user/blogs/steven-macko/2019/07/11/telco-customer-churn-1113).\n",
    "\n",
    "\n",
    "The original dataset is provided by IBM in XLSX format. For the purpose of a more realistic analysis environment, the data has been moved into a PostgreSQL database inside a Docker container. The data entries were uploaded using pdAdmin. The schema is described in `schema.sql`."
   ]
  },
  {
   "cell_type": "markdown",
   "id": "008e0f00",
   "metadata": {},
   "source": [
    "### Connecting to the database"
   ]
  },
  {
   "cell_type": "code",
   "execution_count": 1,
   "id": "0e1533b3",
   "metadata": {},
   "outputs": [],
   "source": [
    "import pandas as pd\n",
    "import seaborn as sns\n",
    "import matplotlib.pyplot as plt"
   ]
  },
  {
   "cell_type": "code",
   "execution_count": 2,
   "id": "4d7e897c",
   "metadata": {},
   "outputs": [],
   "source": [
    "%load_ext sql"
   ]
  },
  {
   "cell_type": "code",
   "execution_count": 3,
   "id": "21242e5c",
   "metadata": {},
   "outputs": [],
   "source": [
    "user = 'postgres'\n",
    "password = 'password'\n",
    "host = '127.0.0.1'\n",
    "port = 5431\n",
    "database = 'telco-db'\n",
    "\n",
    "connection_string = f\"postgresql://{user}:{password}@{host}:{port}/{database}\"\n",
    "\n",
    "%sql $connection_string\n",
    "\n",
    "%config SqlMagic.feedback = False\n",
    "%config SqlMagic.displaycon = False"
   ]
  },
  {
   "cell_type": "code",
   "execution_count": 4,
   "id": "869028cc",
   "metadata": {},
   "outputs": [
    {
     "data": {
      "text/html": [
       "<table>\n",
       "    <thead>\n",
       "        <tr>\n",
       "            <th>Table Name</th>\n",
       "        </tr>\n",
       "    </thead>\n",
       "    <tbody>\n",
       "        <tr>\n",
       "            <td>local_population</td>\n",
       "        </tr>\n",
       "        <tr>\n",
       "            <td>demographics</td>\n",
       "        </tr>\n",
       "        <tr>\n",
       "            <td>location</td>\n",
       "        </tr>\n",
       "        <tr>\n",
       "            <td>services</td>\n",
       "        </tr>\n",
       "        <tr>\n",
       "            <td>status</td>\n",
       "        </tr>\n",
       "    </tbody>\n",
       "</table>"
      ],
      "text/plain": [
       "[('local_population',),\n",
       " ('demographics',),\n",
       " ('location',),\n",
       " ('services',),\n",
       " ('status',)]"
      ]
     },
     "execution_count": 4,
     "metadata": {},
     "output_type": "execute_result"
    }
   ],
   "source": [
    "%%sql\n",
    "SELECT table_name AS \"Table Name\"\n",
    "FROM information_schema.tables\n",
    "WHERE table_schema NOT IN ('pg_catalog', 'information_schema')"
   ]
  },
  {
   "cell_type": "markdown",
   "id": "013ec7a9",
   "metadata": {},
   "source": [
    "## Database overview"
   ]
  },
  {
   "cell_type": "markdown",
   "id": "6b4a026f",
   "metadata": {},
   "source": [
    "### `location` table"
   ]
  },
  {
   "cell_type": "code",
   "execution_count": 5,
   "id": "d7ca4d86",
   "metadata": {},
   "outputs": [
    {
     "data": {
      "text/html": [
       "<table>\n",
       "    <thead>\n",
       "        <tr>\n",
       "            <th>location_id</th>\n",
       "            <th>customer_id</th>\n",
       "            <th>count</th>\n",
       "            <th>country</th>\n",
       "            <th>state</th>\n",
       "            <th>city</th>\n",
       "            <th>zip_code</th>\n",
       "            <th>lat_long</th>\n",
       "            <th>latitude</th>\n",
       "            <th>longitude</th>\n",
       "        </tr>\n",
       "    </thead>\n",
       "    <tbody>\n",
       "        <tr>\n",
       "            <td>OXCZEW7397</td>\n",
       "            <td>8779-QRDMV</td>\n",
       "            <td>1</td>\n",
       "            <td>United States</td>\n",
       "            <td>California</td>\n",
       "            <td>Los Angeles</td>\n",
       "            <td>90022</td>\n",
       "            <td>34.02381, -118.156582</td>\n",
       "            <td>34.02381</td>\n",
       "            <td>-118.156582</td>\n",
       "        </tr>\n",
       "        <tr>\n",
       "            <td>FCCECI8494</td>\n",
       "            <td>7495-OOKFY</td>\n",
       "            <td>1</td>\n",
       "            <td>United States</td>\n",
       "            <td>California</td>\n",
       "            <td>Los Angeles</td>\n",
       "            <td>90063</td>\n",
       "            <td>34.044271, -118.185237</td>\n",
       "            <td>34.044271</td>\n",
       "            <td>-118.185237</td>\n",
       "        </tr>\n",
       "        <tr>\n",
       "            <td>HEHUQY7254</td>\n",
       "            <td>1658-BYGOY</td>\n",
       "            <td>1</td>\n",
       "            <td>United States</td>\n",
       "            <td>California</td>\n",
       "            <td>Los Angeles</td>\n",
       "            <td>90065</td>\n",
       "            <td>34.108833, -118.229715</td>\n",
       "            <td>34.108833</td>\n",
       "            <td>-118.229715</td>\n",
       "        </tr>\n",
       "        <tr>\n",
       "            <td>WIUHRF2613</td>\n",
       "            <td>4598-XLKNJ</td>\n",
       "            <td>1</td>\n",
       "            <td>United States</td>\n",
       "            <td>California</td>\n",
       "            <td>Inglewood</td>\n",
       "            <td>90303</td>\n",
       "            <td>33.936291, -118.332639</td>\n",
       "            <td>33.936291</td>\n",
       "            <td>-118.332639</td>\n",
       "        </tr>\n",
       "        <tr>\n",
       "            <td>CFEZBF4415</td>\n",
       "            <td>4846-WHAFZ</td>\n",
       "            <td>1</td>\n",
       "            <td>United States</td>\n",
       "            <td>California</td>\n",
       "            <td>Whittier</td>\n",
       "            <td>90602</td>\n",
       "            <td>33.972119, -118.020188</td>\n",
       "            <td>33.972119</td>\n",
       "            <td>-118.020188</td>\n",
       "        </tr>\n",
       "    </tbody>\n",
       "</table>"
      ],
      "text/plain": [
       "[('OXCZEW7397', '8779-QRDMV', 1, 'United States', 'California', 'Los Angeles', 90022, '34.02381, -118.156582', 34.02381, -118.156582),\n",
       " ('FCCECI8494', '7495-OOKFY', 1, 'United States', 'California', 'Los Angeles', 90063, '34.044271, -118.185237', 34.044271, -118.185237),\n",
       " ('HEHUQY7254', '1658-BYGOY', 1, 'United States', 'California', 'Los Angeles', 90065, '34.108833, -118.229715', 34.108833, -118.229715),\n",
       " ('WIUHRF2613', '4598-XLKNJ', 1, 'United States', 'California', 'Inglewood', 90303, '33.936291, -118.332639', 33.936291, -118.332639),\n",
       " ('CFEZBF4415', '4846-WHAFZ', 1, 'United States', 'California', 'Whittier', 90602, '33.972119, -118.020188', 33.972119, -118.020188)]"
      ]
     },
     "execution_count": 5,
     "metadata": {},
     "output_type": "execute_result"
    }
   ],
   "source": [
    "%%sql\n",
    "SELECT *\n",
    "FROM location\n",
    "LIMIT 5"
   ]
  },
  {
   "cell_type": "markdown",
   "id": "a8009433",
   "metadata": {},
   "source": [
    "This table contains location details of customers that are all based in California. The primary key of this table is composite and made up of `location_id` and `customer_id`."
   ]
  },
  {
   "cell_type": "markdown",
   "id": "63fe6a29",
   "metadata": {},
   "source": [
    "### `services` table"
   ]
  },
  {
   "cell_type": "code",
   "execution_count": 6,
   "id": "fb21355d",
   "metadata": {},
   "outputs": [
    {
     "data": {
      "text/html": [
       "<table>\n",
       "    <thead>\n",
       "        <tr>\n",
       "            <th>service_id</th>\n",
       "            <th>customer_id</th>\n",
       "            <th>count</th>\n",
       "            <th>quarter</th>\n",
       "            <th>referred_a_friend</th>\n",
       "            <th>n_referred</th>\n",
       "            <th>months_tenure</th>\n",
       "            <th>offer</th>\n",
       "            <th>phone_service</th>\n",
       "            <th>avg_monthly_long_dist_charge</th>\n",
       "            <th>multiple_lines</th>\n",
       "            <th>internet_service</th>\n",
       "            <th>internet_type</th>\n",
       "            <th>avg_monthly_gb_down</th>\n",
       "            <th>online_security</th>\n",
       "            <th>online_backup</th>\n",
       "            <th>device_protection</th>\n",
       "            <th>premium_tech_support</th>\n",
       "            <th>streaming_tv</th>\n",
       "            <th>streaming_movies</th>\n",
       "            <th>streaming_music</th>\n",
       "            <th>unlimited_data</th>\n",
       "            <th>contract_type</th>\n",
       "            <th>paperless_billing</th>\n",
       "            <th>payment_method</th>\n",
       "            <th>monthly_charge</th>\n",
       "            <th>total_charge</th>\n",
       "            <th>total_refunds</th>\n",
       "            <th>total_extra_data_charges</th>\n",
       "            <th>total_long_dist_charges</th>\n",
       "            <th>total_revenue</th>\n",
       "        </tr>\n",
       "    </thead>\n",
       "    <tbody>\n",
       "        <tr>\n",
       "            <td>IJKDQVSWH3522</td>\n",
       "            <td>8779-QRDMV</td>\n",
       "            <td>1</td>\n",
       "            <td>Q3</td>\n",
       "            <td>No</td>\n",
       "            <td>0</td>\n",
       "            <td>1</td>\n",
       "            <td>None</td>\n",
       "            <td>No</td>\n",
       "            <td>0.0</td>\n",
       "            <td>No</td>\n",
       "            <td>Yes</td>\n",
       "            <td>DSL</td>\n",
       "            <td>8</td>\n",
       "            <td>No</td>\n",
       "            <td>No</td>\n",
       "            <td>Yes</td>\n",
       "            <td>No</td>\n",
       "            <td>No</td>\n",
       "            <td>Yes</td>\n",
       "            <td>No</td>\n",
       "            <td>No</td>\n",
       "            <td>Month-to-Month</td>\n",
       "            <td>Yes</td>\n",
       "            <td>Bank Withdrawal</td>\n",
       "            <td>39.65</td>\n",
       "            <td>39.65</td>\n",
       "            <td>0.0</td>\n",
       "            <td>20.0</td>\n",
       "            <td>0.0</td>\n",
       "            <td>59.65</td>\n",
       "        </tr>\n",
       "        <tr>\n",
       "            <td>BFKMZJAIE2285</td>\n",
       "            <td>7495-OOKFY</td>\n",
       "            <td>1</td>\n",
       "            <td>Q3</td>\n",
       "            <td>Yes</td>\n",
       "            <td>1</td>\n",
       "            <td>8</td>\n",
       "            <td>Offer E</td>\n",
       "            <td>Yes</td>\n",
       "            <td>48.85</td>\n",
       "            <td>Yes</td>\n",
       "            <td>Yes</td>\n",
       "            <td>Fiber Optic</td>\n",
       "            <td>17</td>\n",
       "            <td>No</td>\n",
       "            <td>Yes</td>\n",
       "            <td>No</td>\n",
       "            <td>No</td>\n",
       "            <td>No</td>\n",
       "            <td>No</td>\n",
       "            <td>No</td>\n",
       "            <td>Yes</td>\n",
       "            <td>Month-to-Month</td>\n",
       "            <td>Yes</td>\n",
       "            <td>Credit Card</td>\n",
       "            <td>80.65</td>\n",
       "            <td>633.3</td>\n",
       "            <td>0.0</td>\n",
       "            <td>0.0</td>\n",
       "            <td>390.8</td>\n",
       "            <td>1024.1</td>\n",
       "        </tr>\n",
       "        <tr>\n",
       "            <td>EIMVJQBMT7187</td>\n",
       "            <td>1658-BYGOY</td>\n",
       "            <td>1</td>\n",
       "            <td>Q3</td>\n",
       "            <td>No</td>\n",
       "            <td>0</td>\n",
       "            <td>18</td>\n",
       "            <td>Offer D</td>\n",
       "            <td>Yes</td>\n",
       "            <td>11.33</td>\n",
       "            <td>Yes</td>\n",
       "            <td>Yes</td>\n",
       "            <td>Fiber Optic</td>\n",
       "            <td>52</td>\n",
       "            <td>No</td>\n",
       "            <td>No</td>\n",
       "            <td>No</td>\n",
       "            <td>No</td>\n",
       "            <td>Yes</td>\n",
       "            <td>Yes</td>\n",
       "            <td>Yes</td>\n",
       "            <td>Yes</td>\n",
       "            <td>Month-to-Month</td>\n",
       "            <td>Yes</td>\n",
       "            <td>Bank Withdrawal</td>\n",
       "            <td>95.45</td>\n",
       "            <td>1752.55</td>\n",
       "            <td>45.61</td>\n",
       "            <td>0.0</td>\n",
       "            <td>203.94</td>\n",
       "            <td>1910.88</td>\n",
       "        </tr>\n",
       "        <tr>\n",
       "            <td>EROZQXDUU4979</td>\n",
       "            <td>4598-XLKNJ</td>\n",
       "            <td>1</td>\n",
       "            <td>Q3</td>\n",
       "            <td>Yes</td>\n",
       "            <td>1</td>\n",
       "            <td>25</td>\n",
       "            <td>Offer C</td>\n",
       "            <td>Yes</td>\n",
       "            <td>19.76</td>\n",
       "            <td>No</td>\n",
       "            <td>Yes</td>\n",
       "            <td>Fiber Optic</td>\n",
       "            <td>12</td>\n",
       "            <td>No</td>\n",
       "            <td>Yes</td>\n",
       "            <td>Yes</td>\n",
       "            <td>No</td>\n",
       "            <td>Yes</td>\n",
       "            <td>Yes</td>\n",
       "            <td>No</td>\n",
       "            <td>Yes</td>\n",
       "            <td>Month-to-Month</td>\n",
       "            <td>Yes</td>\n",
       "            <td>Bank Withdrawal</td>\n",
       "            <td>98.5</td>\n",
       "            <td>2514.5</td>\n",
       "            <td>13.43</td>\n",
       "            <td>0.0</td>\n",
       "            <td>494.0</td>\n",
       "            <td>2995.07</td>\n",
       "        </tr>\n",
       "        <tr>\n",
       "            <td>GEEYSJUHY6991</td>\n",
       "            <td>4846-WHAFZ</td>\n",
       "            <td>1</td>\n",
       "            <td>Q3</td>\n",
       "            <td>Yes</td>\n",
       "            <td>1</td>\n",
       "            <td>37</td>\n",
       "            <td>Offer C</td>\n",
       "            <td>Yes</td>\n",
       "            <td>6.33</td>\n",
       "            <td>Yes</td>\n",
       "            <td>Yes</td>\n",
       "            <td>Fiber Optic</td>\n",
       "            <td>14</td>\n",
       "            <td>No</td>\n",
       "            <td>No</td>\n",
       "            <td>No</td>\n",
       "            <td>No</td>\n",
       "            <td>No</td>\n",
       "            <td>No</td>\n",
       "            <td>No</td>\n",
       "            <td>Yes</td>\n",
       "            <td>Month-to-Month</td>\n",
       "            <td>Yes</td>\n",
       "            <td>Bank Withdrawal</td>\n",
       "            <td>76.5</td>\n",
       "            <td>2868.15</td>\n",
       "            <td>0.0</td>\n",
       "            <td>0.0</td>\n",
       "            <td>234.21</td>\n",
       "            <td>3102.36</td>\n",
       "        </tr>\n",
       "    </tbody>\n",
       "</table>"
      ],
      "text/plain": [
       "[('IJKDQVSWH3522', '8779-QRDMV', 1, 'Q3', 'No', 0, 1, 'None', 'No', 0.0, 'No', 'Yes', 'DSL', 8, 'No', 'No', 'Yes', 'No', 'No', 'Yes', 'No', 'No', 'Month-to-Month', 'Yes', 'Bank Withdrawal', 39.65, 39.65, 0.0, 20.0, 0.0, 59.65),\n",
       " ('BFKMZJAIE2285', '7495-OOKFY', 1, 'Q3', 'Yes', 1, 8, 'Offer E', 'Yes', 48.85, 'Yes', 'Yes', 'Fiber Optic', 17, 'No', 'Yes', 'No', 'No', 'No', 'No', 'No', 'Yes', 'Month-to-Month', 'Yes', 'Credit Card', 80.65, 633.3, 0.0, 0.0, 390.8, 1024.1),\n",
       " ('EIMVJQBMT7187', '1658-BYGOY', 1, 'Q3', 'No', 0, 18, 'Offer D', 'Yes', 11.33, 'Yes', 'Yes', 'Fiber Optic', 52, 'No', 'No', 'No', 'No', 'Yes', 'Yes', 'Yes', 'Yes', 'Month-to-Month', 'Yes', 'Bank Withdrawal', 95.45, 1752.55, 45.61, 0.0, 203.94, 1910.88),\n",
       " ('EROZQXDUU4979', '4598-XLKNJ', 1, 'Q3', 'Yes', 1, 25, 'Offer C', 'Yes', 19.76, 'No', 'Yes', 'Fiber Optic', 12, 'No', 'Yes', 'Yes', 'No', 'Yes', 'Yes', 'No', 'Yes', 'Month-to-Month', 'Yes', 'Bank Withdrawal', 98.5, 2514.5, 13.43, 0.0, 494.0, 2995.07),\n",
       " ('GEEYSJUHY6991', '4846-WHAFZ', 1, 'Q3', 'Yes', 1, 37, 'Offer C', 'Yes', 6.33, 'Yes', 'Yes', 'Fiber Optic', 14, 'No', 'No', 'No', 'No', 'No', 'No', 'No', 'Yes', 'Month-to-Month', 'Yes', 'Bank Withdrawal', 76.5, 2868.15, 0.0, 0.0, 234.21, 3102.36)]"
      ]
     },
     "execution_count": 6,
     "metadata": {},
     "output_type": "execute_result"
    }
   ],
   "source": [
    "%%sql\n",
    "SELECT *\n",
    "FROM services\n",
    "LIMIT 5"
   ]
  },
  {
   "cell_type": "code",
   "execution_count": 7,
   "id": "66c07a05",
   "metadata": {},
   "outputs": [
    {
     "data": {
      "text/html": [
       "<table>\n",
       "    <thead>\n",
       "        <tr>\n",
       "            <th>Column Name</th>\n",
       "        </tr>\n",
       "    </thead>\n",
       "    <tbody>\n",
       "        <tr>\n",
       "            <td>service_id</td>\n",
       "        </tr>\n",
       "        <tr>\n",
       "            <td>customer_id</td>\n",
       "        </tr>\n",
       "        <tr>\n",
       "            <td>count</td>\n",
       "        </tr>\n",
       "        <tr>\n",
       "            <td>quarter</td>\n",
       "        </tr>\n",
       "        <tr>\n",
       "            <td>referred_a_friend</td>\n",
       "        </tr>\n",
       "        <tr>\n",
       "            <td>n_referred</td>\n",
       "        </tr>\n",
       "        <tr>\n",
       "            <td>months_tenure</td>\n",
       "        </tr>\n",
       "        <tr>\n",
       "            <td>offer</td>\n",
       "        </tr>\n",
       "        <tr>\n",
       "            <td>phone_service</td>\n",
       "        </tr>\n",
       "        <tr>\n",
       "            <td>avg_monthly_long_dist_charge</td>\n",
       "        </tr>\n",
       "        <tr>\n",
       "            <td>multiple_lines</td>\n",
       "        </tr>\n",
       "        <tr>\n",
       "            <td>internet_service</td>\n",
       "        </tr>\n",
       "        <tr>\n",
       "            <td>internet_type</td>\n",
       "        </tr>\n",
       "        <tr>\n",
       "            <td>avg_monthly_gb_down</td>\n",
       "        </tr>\n",
       "        <tr>\n",
       "            <td>online_security</td>\n",
       "        </tr>\n",
       "        <tr>\n",
       "            <td>online_backup</td>\n",
       "        </tr>\n",
       "        <tr>\n",
       "            <td>device_protection</td>\n",
       "        </tr>\n",
       "        <tr>\n",
       "            <td>premium_tech_support</td>\n",
       "        </tr>\n",
       "        <tr>\n",
       "            <td>streaming_tv</td>\n",
       "        </tr>\n",
       "        <tr>\n",
       "            <td>streaming_movies</td>\n",
       "        </tr>\n",
       "        <tr>\n",
       "            <td>streaming_music</td>\n",
       "        </tr>\n",
       "        <tr>\n",
       "            <td>unlimited_data</td>\n",
       "        </tr>\n",
       "        <tr>\n",
       "            <td>contract_type</td>\n",
       "        </tr>\n",
       "        <tr>\n",
       "            <td>paperless_billing</td>\n",
       "        </tr>\n",
       "        <tr>\n",
       "            <td>payment_method</td>\n",
       "        </tr>\n",
       "        <tr>\n",
       "            <td>monthly_charge</td>\n",
       "        </tr>\n",
       "        <tr>\n",
       "            <td>total_charge</td>\n",
       "        </tr>\n",
       "        <tr>\n",
       "            <td>total_refunds</td>\n",
       "        </tr>\n",
       "        <tr>\n",
       "            <td>total_extra_data_charges</td>\n",
       "        </tr>\n",
       "        <tr>\n",
       "            <td>total_long_dist_charges</td>\n",
       "        </tr>\n",
       "        <tr>\n",
       "            <td>total_revenue</td>\n",
       "        </tr>\n",
       "    </tbody>\n",
       "</table>"
      ],
      "text/plain": [
       "[('service_id',),\n",
       " ('customer_id',),\n",
       " ('count',),\n",
       " ('quarter',),\n",
       " ('referred_a_friend',),\n",
       " ('n_referred',),\n",
       " ('months_tenure',),\n",
       " ('offer',),\n",
       " ('phone_service',),\n",
       " ('avg_monthly_long_dist_charge',),\n",
       " ('multiple_lines',),\n",
       " ('internet_service',),\n",
       " ('internet_type',),\n",
       " ('avg_monthly_gb_down',),\n",
       " ('online_security',),\n",
       " ('online_backup',),\n",
       " ('device_protection',),\n",
       " ('premium_tech_support',),\n",
       " ('streaming_tv',),\n",
       " ('streaming_movies',),\n",
       " ('streaming_music',),\n",
       " ('unlimited_data',),\n",
       " ('contract_type',),\n",
       " ('paperless_billing',),\n",
       " ('payment_method',),\n",
       " ('monthly_charge',),\n",
       " ('total_charge',),\n",
       " ('total_refunds',),\n",
       " ('total_extra_data_charges',),\n",
       " ('total_long_dist_charges',),\n",
       " ('total_revenue',)]"
      ]
     },
     "execution_count": 7,
     "metadata": {},
     "output_type": "execute_result"
    }
   ],
   "source": [
    "%%sql\n",
    "SELECT column_name AS \"Column Name\"\n",
    "FROM information_schema.columns\n",
    "WHERE table_catalog = 'telco-db' AND table_name = 'services'\n",
    "ORDER BY ordinal_position"
   ]
  },
  {
   "cell_type": "markdown",
   "id": "b5a2d756",
   "metadata": {},
   "source": [
    "This table contains client-specific information about the service provided and the main information that will be useful when modelling churn."
   ]
  },
  {
   "cell_type": "markdown",
   "id": "f11c7b48",
   "metadata": {},
   "source": [
    "### `status` table"
   ]
  },
  {
   "cell_type": "code",
   "execution_count": 8,
   "id": "32224055",
   "metadata": {},
   "outputs": [
    {
     "data": {
      "text/html": [
       "<table>\n",
       "    <thead>\n",
       "        <tr>\n",
       "            <th>status_id</th>\n",
       "            <th>customer_id</th>\n",
       "            <th>count</th>\n",
       "            <th>quarter</th>\n",
       "            <th>satisfaction_score</th>\n",
       "            <th>customer_status</th>\n",
       "            <th>churn_label</th>\n",
       "            <th>churn_value</th>\n",
       "            <th>church_score</th>\n",
       "            <th>cltv</th>\n",
       "            <th>churn_category</th>\n",
       "            <th>churn_reason</th>\n",
       "        </tr>\n",
       "    </thead>\n",
       "    <tbody>\n",
       "        <tr>\n",
       "            <td>SWSORB1252</td>\n",
       "            <td>8779-QRDMV</td>\n",
       "            <td>1</td>\n",
       "            <td>Q3</td>\n",
       "            <td>3</td>\n",
       "            <td>Churned</td>\n",
       "            <td>Yes</td>\n",
       "            <td>True</td>\n",
       "            <td>91</td>\n",
       "            <td>5433</td>\n",
       "            <td>Competitor</td>\n",
       "            <td>Competitor offered more data</td>\n",
       "        </tr>\n",
       "        <tr>\n",
       "            <td>SNAEQA8572</td>\n",
       "            <td>7495-OOKFY</td>\n",
       "            <td>1</td>\n",
       "            <td>Q3</td>\n",
       "            <td>3</td>\n",
       "            <td>Churned</td>\n",
       "            <td>Yes</td>\n",
       "            <td>True</td>\n",
       "            <td>69</td>\n",
       "            <td>5302</td>\n",
       "            <td>Competitor</td>\n",
       "            <td>Competitor made better offer</td>\n",
       "        </tr>\n",
       "        <tr>\n",
       "            <td>LMBQNN3714</td>\n",
       "            <td>1658-BYGOY</td>\n",
       "            <td>1</td>\n",
       "            <td>Q3</td>\n",
       "            <td>2</td>\n",
       "            <td>Churned</td>\n",
       "            <td>Yes</td>\n",
       "            <td>True</td>\n",
       "            <td>81</td>\n",
       "            <td>3179</td>\n",
       "            <td>Competitor</td>\n",
       "            <td>Competitor made better offer</td>\n",
       "        </tr>\n",
       "        <tr>\n",
       "            <td>VRZYZI9978</td>\n",
       "            <td>4598-XLKNJ</td>\n",
       "            <td>1</td>\n",
       "            <td>Q3</td>\n",
       "            <td>2</td>\n",
       "            <td>Churned</td>\n",
       "            <td>Yes</td>\n",
       "            <td>True</td>\n",
       "            <td>88</td>\n",
       "            <td>5337</td>\n",
       "            <td>Dissatisfaction</td>\n",
       "            <td>Limited range of services</td>\n",
       "        </tr>\n",
       "        <tr>\n",
       "            <td>FDNAKX1688</td>\n",
       "            <td>4846-WHAFZ</td>\n",
       "            <td>1</td>\n",
       "            <td>Q3</td>\n",
       "            <td>2</td>\n",
       "            <td>Churned</td>\n",
       "            <td>Yes</td>\n",
       "            <td>True</td>\n",
       "            <td>67</td>\n",
       "            <td>2793</td>\n",
       "            <td>Price</td>\n",
       "            <td>Extra data charges</td>\n",
       "        </tr>\n",
       "    </tbody>\n",
       "</table>"
      ],
      "text/plain": [
       "[('SWSORB1252', '8779-QRDMV', 1, 'Q3', 3, 'Churned', 'Yes', True, 91, 5433, 'Competitor', 'Competitor offered more data'),\n",
       " ('SNAEQA8572', '7495-OOKFY', 1, 'Q3', 3, 'Churned', 'Yes', True, 69, 5302, 'Competitor', 'Competitor made better offer'),\n",
       " ('LMBQNN3714', '1658-BYGOY', 1, 'Q3', 2, 'Churned', 'Yes', True, 81, 3179, 'Competitor', 'Competitor made better offer'),\n",
       " ('VRZYZI9978', '4598-XLKNJ', 1, 'Q3', 2, 'Churned', 'Yes', True, 88, 5337, 'Dissatisfaction', 'Limited range of services'),\n",
       " ('FDNAKX1688', '4846-WHAFZ', 1, 'Q3', 2, 'Churned', 'Yes', True, 67, 2793, 'Price', 'Extra data charges')]"
      ]
     },
     "execution_count": 8,
     "metadata": {},
     "output_type": "execute_result"
    }
   ],
   "source": [
    "%%sql\n",
    "SELECT *\n",
    "FROM status\n",
    "LIMIT 5"
   ]
  },
  {
   "cell_type": "markdown",
   "id": "884dac13",
   "metadata": {},
   "source": [
    "This table shows information regarding the currect customer's satisfaction and whether they have or have not churned. Information about the cause of churn is also provided along with customer lifetime value which can also be modelled."
   ]
  },
  {
   "cell_type": "markdown",
   "id": "f5c73083",
   "metadata": {},
   "source": [
    "### `local_population` table"
   ]
  },
  {
   "cell_type": "code",
   "execution_count": 9,
   "id": "df7c112d",
   "metadata": {},
   "outputs": [
    {
     "data": {
      "text/html": [
       "<table>\n",
       "    <thead>\n",
       "        <tr>\n",
       "            <th>id</th>\n",
       "            <th>zip_code</th>\n",
       "            <th>population</th>\n",
       "        </tr>\n",
       "    </thead>\n",
       "    <tbody>\n",
       "        <tr>\n",
       "            <td>1</td>\n",
       "            <td>90001</td>\n",
       "            <td>54492</td>\n",
       "        </tr>\n",
       "        <tr>\n",
       "            <td>2</td>\n",
       "            <td>90002</td>\n",
       "            <td>44586</td>\n",
       "        </tr>\n",
       "        <tr>\n",
       "            <td>3</td>\n",
       "            <td>90003</td>\n",
       "            <td>58198</td>\n",
       "        </tr>\n",
       "        <tr>\n",
       "            <td>4</td>\n",
       "            <td>90004</td>\n",
       "            <td>67852</td>\n",
       "        </tr>\n",
       "        <tr>\n",
       "            <td>5</td>\n",
       "            <td>90005</td>\n",
       "            <td>43019</td>\n",
       "        </tr>\n",
       "    </tbody>\n",
       "</table>"
      ],
      "text/plain": [
       "[(1, 90001, 54492),\n",
       " (2, 90002, 44586),\n",
       " (3, 90003, 58198),\n",
       " (4, 90004, 67852),\n",
       " (5, 90005, 43019)]"
      ]
     },
     "execution_count": 9,
     "metadata": {},
     "output_type": "execute_result"
    }
   ],
   "source": [
    "%%sql\n",
    "SELECT *\n",
    "FROM local_population\n",
    "LIMIT 5"
   ]
  },
  {
   "cell_type": "markdown",
   "id": "2aa3a303",
   "metadata": {},
   "source": [
    "This table shows the local population in a given zip code. This can be used to discert more urban areas from more rural ones."
   ]
  },
  {
   "cell_type": "markdown",
   "id": "d9f65d70",
   "metadata": {},
   "source": [
    "### `demographics` table"
   ]
  },
  {
   "cell_type": "code",
   "execution_count": 10,
   "id": "a58c3375",
   "metadata": {},
   "outputs": [
    {
     "data": {
      "text/html": [
       "<table>\n",
       "    <thead>\n",
       "        <tr>\n",
       "            <th>customer_id</th>\n",
       "            <th>count</th>\n",
       "            <th>gender</th>\n",
       "            <th>age</th>\n",
       "            <th>under_30</th>\n",
       "            <th>is_senior</th>\n",
       "            <th>is_married</th>\n",
       "            <th>has_dependents</th>\n",
       "            <th>n_dependents</th>\n",
       "        </tr>\n",
       "    </thead>\n",
       "    <tbody>\n",
       "        <tr>\n",
       "            <td>8779-QRDMV</td>\n",
       "            <td>1</td>\n",
       "            <td>Male</td>\n",
       "            <td>78</td>\n",
       "            <td>No</td>\n",
       "            <td>Yes</td>\n",
       "            <td>No</td>\n",
       "            <td>No</td>\n",
       "            <td>0</td>\n",
       "        </tr>\n",
       "        <tr>\n",
       "            <td>7495-OOKFY</td>\n",
       "            <td>1</td>\n",
       "            <td>Female</td>\n",
       "            <td>74</td>\n",
       "            <td>No</td>\n",
       "            <td>Yes</td>\n",
       "            <td>Yes</td>\n",
       "            <td>Yes</td>\n",
       "            <td>1</td>\n",
       "        </tr>\n",
       "        <tr>\n",
       "            <td>1658-BYGOY</td>\n",
       "            <td>1</td>\n",
       "            <td>Male</td>\n",
       "            <td>71</td>\n",
       "            <td>No</td>\n",
       "            <td>Yes</td>\n",
       "            <td>No</td>\n",
       "            <td>Yes</td>\n",
       "            <td>3</td>\n",
       "        </tr>\n",
       "        <tr>\n",
       "            <td>4598-XLKNJ</td>\n",
       "            <td>1</td>\n",
       "            <td>Female</td>\n",
       "            <td>78</td>\n",
       "            <td>No</td>\n",
       "            <td>Yes</td>\n",
       "            <td>Yes</td>\n",
       "            <td>Yes</td>\n",
       "            <td>1</td>\n",
       "        </tr>\n",
       "        <tr>\n",
       "            <td>4846-WHAFZ</td>\n",
       "            <td>1</td>\n",
       "            <td>Female</td>\n",
       "            <td>80</td>\n",
       "            <td>No</td>\n",
       "            <td>Yes</td>\n",
       "            <td>Yes</td>\n",
       "            <td>Yes</td>\n",
       "            <td>1</td>\n",
       "        </tr>\n",
       "    </tbody>\n",
       "</table>"
      ],
      "text/plain": [
       "[('8779-QRDMV', 1, 'Male', 78, 'No', 'Yes', 'No', 'No', 0),\n",
       " ('7495-OOKFY', 1, 'Female', 74, 'No', 'Yes', 'Yes', 'Yes', 1),\n",
       " ('1658-BYGOY', 1, 'Male', 71, 'No', 'Yes', 'No', 'Yes', 3),\n",
       " ('4598-XLKNJ', 1, 'Female', 78, 'No', 'Yes', 'Yes', 'Yes', 1),\n",
       " ('4846-WHAFZ', 1, 'Female', 80, 'No', 'Yes', 'Yes', 'Yes', 1)]"
      ]
     },
     "execution_count": 10,
     "metadata": {},
     "output_type": "execute_result"
    }
   ],
   "source": [
    "%%sql\n",
    "SELECT *\n",
    "FROM demographics\n",
    "LIMIT 5"
   ]
  },
  {
   "cell_type": "markdown",
   "id": "029703f3",
   "metadata": {},
   "source": [
    "This table describes the person's demographic details such as age, gender and family status."
   ]
  },
  {
   "cell_type": "markdown",
   "id": "410cb4df",
   "metadata": {},
   "source": [
    "## Exploring the data"
   ]
  },
  {
   "cell_type": "markdown",
   "id": "b0a2cb90",
   "metadata": {},
   "source": [
    "One way to analyse this data would be merging all tables and performing analysys on Pandas's DataFrame but let's instead perform basic analysis through SQL itself."
   ]
  },
  {
   "cell_type": "markdown",
   "id": "dc10284f",
   "metadata": {},
   "source": [
    "#### How long have our customers been with the company?"
   ]
  },
  {
   "cell_type": "code",
   "execution_count": 11,
   "id": "3a0e7911",
   "metadata": {},
   "outputs": [
    {
     "data": {
      "text/html": [
       "<table>\n",
       "    <thead>\n",
       "        <tr>\n",
       "            <th>churned</th>\n",
       "            <th>min</th>\n",
       "            <th>q25</th>\n",
       "            <th>median</th>\n",
       "            <th>avg</th>\n",
       "            <th>q75</th>\n",
       "            <th>max</th>\n",
       "        </tr>\n",
       "    </thead>\n",
       "    <tbody>\n",
       "        <tr>\n",
       "            <td>False</td>\n",
       "            <td>1</td>\n",
       "            <td>15.0</td>\n",
       "            <td>38.0</td>\n",
       "            <td>37.5912253575570158</td>\n",
       "            <td>61.0</td>\n",
       "            <td>72</td>\n",
       "        </tr>\n",
       "        <tr>\n",
       "            <td>True</td>\n",
       "            <td>1</td>\n",
       "            <td>2.0</td>\n",
       "            <td>10.0</td>\n",
       "            <td>17.9791332263242376</td>\n",
       "            <td>29.0</td>\n",
       "            <td>72</td>\n",
       "        </tr>\n",
       "    </tbody>\n",
       "</table>"
      ],
      "text/plain": [
       "[(False, 1, 15.0, 38.0, Decimal('37.5912253575570158'), 61.0, 72),\n",
       " (True, 1, 2.0, 10.0, Decimal('17.9791332263242376'), 29.0, 72)]"
      ]
     },
     "execution_count": 11,
     "metadata": {},
     "output_type": "execute_result"
    }
   ],
   "source": [
    "%%sql\n",
    "SELECT churn_value AS churned,\n",
    "       MIN(months_tenure),\n",
    "       PERCENTILE_CONT(0.25) WITHIN GROUP (\n",
    "          ORDER BY months_tenure) AS q25,\n",
    "       PERCENTILE_CONT(0.5) WITHIN GROUP (\n",
    "          ORDER BY months_tenure) AS median,\n",
    "       AVG(months_tenure),\n",
    "       PERCENTILE_CONT(0.75) WITHIN GROUP (\n",
    "          ORDER BY months_tenure) AS q75,\n",
    "       MAX(months_tenure)\n",
    "FROM status LEFT JOIN services ON status.customer_id = services.customer_id\n",
    "GROUP BY churn_value"
   ]
  },
  {
   "cell_type": "markdown",
   "id": "3f5eb9a3",
   "metadata": {},
   "source": [
    "The data shows us that churned customers churn earlier than those that have stayed - Q75 for churned customers is well below the median for the non-churned ones. We have clear separation. That is positive news as it means that our loyal customers are choosing to stay."
   ]
  },
  {
   "cell_type": "markdown",
   "id": "bc82599e",
   "metadata": {},
   "source": [
    "#### How many customers have churned?"
   ]
  },
  {
   "cell_type": "code",
   "execution_count": 12,
   "id": "d883a232",
   "metadata": {},
   "outputs": [
    {
     "data": {
      "text/html": [
       "<table>\n",
       "    <thead>\n",
       "        <tr>\n",
       "            <th>percentage_churned</th>\n",
       "        </tr>\n",
       "    </thead>\n",
       "    <tbody>\n",
       "        <tr>\n",
       "            <td>26.54</td>\n",
       "        </tr>\n",
       "    </tbody>\n",
       "</table>"
      ],
      "text/plain": [
       "[(Decimal('26.54'),)]"
      ]
     },
     "execution_count": 12,
     "metadata": {},
     "output_type": "execute_result"
    }
   ],
   "source": [
    "%%sql\n",
    "SELECT ROUND((SELECT COUNT(*)\n",
    "              FROM status\n",
    "              WHERE churn_value = True) / CAST(COUNT(*) AS numeric) * 100, 2) AS percentage_churned\n",
    "FROM status"
   ]
  },
  {
   "cell_type": "markdown",
   "id": "5e74d341",
   "metadata": {},
   "source": [
    "We have lost almost 1/3 of our customers. Since the data is provided only for Q3, it is hard to put this number into perspective."
   ]
  },
  {
   "cell_type": "markdown",
   "id": "86046625",
   "metadata": {},
   "source": [
    "#### Do churned customers pay more?"
   ]
  },
  {
   "cell_type": "code",
   "execution_count": 13,
   "id": "456333d0",
   "metadata": {},
   "outputs": [
    {
     "data": {
      "text/html": [
       "<table>\n",
       "    <thead>\n",
       "        <tr>\n",
       "            <th>churned</th>\n",
       "            <th>montly_charge</th>\n",
       "            <th>montly_charge_sd</th>\n",
       "        </tr>\n",
       "    </thead>\n",
       "    <tbody>\n",
       "        <tr>\n",
       "            <td>False</td>\n",
       "            <td>61.27</td>\n",
       "            <td>31.09</td>\n",
       "        </tr>\n",
       "        <tr>\n",
       "            <td>True</td>\n",
       "            <td>74.44</td>\n",
       "            <td>24.67</td>\n",
       "        </tr>\n",
       "    </tbody>\n",
       "</table>"
      ],
      "text/plain": [
       "[(False, Decimal('61.27'), Decimal('31.09')),\n",
       " (True, Decimal('74.44'), Decimal('24.67'))]"
      ]
     },
     "execution_count": 13,
     "metadata": {},
     "output_type": "execute_result"
    }
   ],
   "source": [
    "%%sql\n",
    "SELECT churn_value AS churned,\n",
    "       ROUND(CAST(AVG(monthly_charge) AS numeric), 2) AS montly_charge,\n",
    "       ROUND(CAST(STDDEV(monthly_charge) AS numeric), 2) AS montly_charge_sd\n",
    "FROM status LEFT JOIN services ON status.customer_id = services.customer_id\n",
    "GROUP BY churn_value"
   ]
  },
  {
   "cell_type": "markdown",
   "id": "0e717372",
   "metadata": {},
   "source": [
    "Churned customers were, in fact, paying more on average. The distributions are most likely overlapping.\n",
    "\n",
    "That begs the question: are offering worse deals to the customers that are not satisfied with the company?"
   ]
  },
  {
   "cell_type": "code",
   "execution_count": 14,
   "id": "943c144d",
   "metadata": {},
   "outputs": [
    {
     "name": "stdout",
     "output_type": "stream",
     "text": [
      "Returning data to local variable churn_count_charge\n"
     ]
    }
   ],
   "source": [
    "%%sql churn_count_charge <<\n",
    "SELECT churn_value, offer,\n",
    "       COUNT(offer), ROUND(CAST(AVG(monthly_charge) AS numeric), 2) AS avg_monthly_charge,\n",
    "       ROUND(CAST(STDDEV(monthly_charge) AS numeric), 2) AS montly_charge_sd\n",
    "FROM status LEFT JOIN services ON status.customer_id = services.customer_id\n",
    "GROUP BY churn_value, offer\n",
    "ORDER BY churn_value, offer"
   ]
  },
  {
   "cell_type": "code",
   "execution_count": 15,
   "id": "41ad21d6",
   "metadata": {},
   "outputs": [
    {
     "data": {
      "text/html": [
       "<table>\n",
       "    <thead>\n",
       "        <tr>\n",
       "            <th>churn_value</th>\n",
       "            <th>offer</th>\n",
       "            <th>count</th>\n",
       "            <th>avg_monthly_charge</th>\n",
       "            <th>montly_charge_sd</th>\n",
       "        </tr>\n",
       "    </thead>\n",
       "    <tbody>\n",
       "        <tr>\n",
       "            <td>False</td>\n",
       "            <td>None</td>\n",
       "            <td>2826</td>\n",
       "            <td>60.27</td>\n",
       "            <td>30.96</td>\n",
       "        </tr>\n",
       "        <tr>\n",
       "            <td>False</td>\n",
       "            <td>Offer A</td>\n",
       "            <td>485</td>\n",
       "            <td>76.11</td>\n",
       "            <td>31.40</td>\n",
       "        </tr>\n",
       "        <tr>\n",
       "            <td>False</td>\n",
       "            <td>Offer B</td>\n",
       "            <td>723</td>\n",
       "            <td>68.52</td>\n",
       "            <td>31.09</td>\n",
       "        </tr>\n",
       "        <tr>\n",
       "            <td>False</td>\n",
       "            <td>Offer C</td>\n",
       "            <td>320</td>\n",
       "            <td>61.16</td>\n",
       "            <td>29.80</td>\n",
       "        </tr>\n",
       "        <tr>\n",
       "            <td>False</td>\n",
       "            <td>Offer D</td>\n",
       "            <td>441</td>\n",
       "            <td>51.30</td>\n",
       "            <td>27.62</td>\n",
       "        </tr>\n",
       "        <tr>\n",
       "            <td>False</td>\n",
       "            <td>Offer E</td>\n",
       "            <td>379</td>\n",
       "            <td>47.50</td>\n",
       "            <td>24.99</td>\n",
       "        </tr>\n",
       "        <tr>\n",
       "            <td>True</td>\n",
       "            <td>None</td>\n",
       "            <td>1051</td>\n",
       "            <td>75.33</td>\n",
       "            <td>23.95</td>\n",
       "        </tr>\n",
       "        <tr>\n",
       "            <td>True</td>\n",
       "            <td>Offer A</td>\n",
       "            <td>35</td>\n",
       "            <td>99.97</td>\n",
       "            <td>14.06</td>\n",
       "        </tr>\n",
       "        <tr>\n",
       "            <td>True</td>\n",
       "            <td>Offer B</td>\n",
       "            <td>101</td>\n",
       "            <td>87.36</td>\n",
       "            <td>23.26</td>\n",
       "        </tr>\n",
       "        <tr>\n",
       "            <td>True</td>\n",
       "            <td>Offer C</td>\n",
       "            <td>95</td>\n",
       "            <td>84.84</td>\n",
       "            <td>18.77</td>\n",
       "        </tr>\n",
       "        <tr>\n",
       "            <td>True</td>\n",
       "            <td>Offer D</td>\n",
       "            <td>161</td>\n",
       "            <td>76.98</td>\n",
       "            <td>22.28</td>\n",
       "        </tr>\n",
       "        <tr>\n",
       "            <td>True</td>\n",
       "            <td>Offer E</td>\n",
       "            <td>426</td>\n",
       "            <td>63.80</td>\n",
       "            <td>24.78</td>\n",
       "        </tr>\n",
       "    </tbody>\n",
       "</table>"
      ],
      "text/plain": [
       "[(False, 'None', 2826, Decimal('60.27'), Decimal('30.96')),\n",
       " (False, 'Offer A', 485, Decimal('76.11'), Decimal('31.40')),\n",
       " (False, 'Offer B', 723, Decimal('68.52'), Decimal('31.09')),\n",
       " (False, 'Offer C', 320, Decimal('61.16'), Decimal('29.80')),\n",
       " (False, 'Offer D', 441, Decimal('51.30'), Decimal('27.62')),\n",
       " (False, 'Offer E', 379, Decimal('47.50'), Decimal('24.99')),\n",
       " (True, 'None', 1051, Decimal('75.33'), Decimal('23.95')),\n",
       " (True, 'Offer A', 35, Decimal('99.97'), Decimal('14.06')),\n",
       " (True, 'Offer B', 101, Decimal('87.36'), Decimal('23.26')),\n",
       " (True, 'Offer C', 95, Decimal('84.84'), Decimal('18.77')),\n",
       " (True, 'Offer D', 161, Decimal('76.98'), Decimal('22.28')),\n",
       " (True, 'Offer E', 426, Decimal('63.80'), Decimal('24.78'))]"
      ]
     },
     "execution_count": 15,
     "metadata": {},
     "output_type": "execute_result"
    }
   ],
   "source": [
    "churn_count_charge"
   ]
  },
  {
   "cell_type": "markdown",
   "id": "fccc661b",
   "metadata": {},
   "source": [
    "It is difficult to read a table with multiple conditions so let's plot the data."
   ]
  },
  {
   "cell_type": "code",
   "execution_count": 22,
   "id": "34eef518",
   "metadata": {},
   "outputs": [
    {
     "data": {
      "image/png": "[encoded data removed]",
      "text/plain": [
       "<Figure size 1200x500 with 1 Axes>"
      ]
     },
     "metadata": {},
     "output_type": "display_data"
    }
   ],
   "source": [
    "df = churn_count_charge.DataFrame()\n",
    "\n",
    "fig, ax = plt.subplots(figsize=(12, 5))\n",
    "\n",
    "for churn_val, group in df.groupby(\"churn_value\"):\n",
    "\n",
    "    line = ax.plot(group[\"offer\"], group[\"avg_monthly_charge\"], \n",
    "                   marker='x', linewidth=2, markersize=6, \n",
    "                   label=f\"{churn_val}\")\n",
    "    \n",
    "    color = line[0].get_color()\n",
    "    \n",
    "    ax.fill_between(group[\"offer\"], \n",
    "                    group[\"avg_monthly_charge\"] - group[\"montly_charge_sd\"],\n",
    "                    group[\"avg_monthly_charge\"] + group[\"montly_charge_sd\"],\n",
    "                    alpha=0.2, color=color)\n",
    "\n",
    "ax.set_xlabel(\"Offer\")\n",
    "ax.set_ylabel(\"Average Monthly Charge\")\n",
    "ax.legend()\n",
    "ax.grid(True)\n",
    "plt.tight_layout()\n",
    "plt.show()"
   ]
  },
  {
   "cell_type": "markdown",
   "id": "a797552a",
   "metadata": {},
   "source": [
    "One thing is clear - we are overcharging some of our customers and, in turn, they choosing to go elsewhere."
   ]
  },
  {
   "cell_type": "markdown",
   "id": "284aef7b",
   "metadata": {
    "vscode": {
     "languageId": "sql"
    }
   },
   "source": [
    "#### Does the churn rate change with tenure?"
   ]
  },
  {
   "cell_type": "code",
   "execution_count": 17,
   "id": "2c2891ed",
   "metadata": {},
   "outputs": [
    {
     "name": "stdout",
     "output_type": "stream",
     "text": [
      "Returning data to local variable churn_tenure\n"
     ]
    }
   ],
   "source": [
    "%%sql churn_tenure <<\n",
    "SELECT COUNT(*), churn_value,\n",
    "CASE\n",
    "    WHEN months_tenure < 3 THEN '0-3'\n",
    "    WHEN months_tenure BETWEEN 3 AND 9 THEN '3-9'\n",
    "    WHEN months_tenure BETWEEN 9 AND 12 THEN '9-12'\n",
    "    WHEN months_tenure BETWEEN 12 AND 24 THEN '12-24'\n",
    "    ELSE '24+'\n",
    "END AS tenure_category\n",
    "FROM status LEFT JOIN services ON status.customer_id = services.customer_id\n",
    "GROUP BY tenure_category, churn_value\n",
    "ORDER BY tenure_category, churn_value"
   ]
  },
  {
   "cell_type": "code",
   "execution_count": 18,
   "id": "affe21fd",
   "metadata": {},
   "outputs": [
    {
     "data": {
      "text/html": [
       "<table>\n",
       "    <thead>\n",
       "        <tr>\n",
       "            <th>count</th>\n",
       "            <th>churn_value</th>\n",
       "            <th>tenure_category</th>\n",
       "        </tr>\n",
       "    </thead>\n",
       "    <tbody>\n",
       "        <tr>\n",
       "            <td>348</td>\n",
       "            <td>False</td>\n",
       "            <td>0-3</td>\n",
       "        </tr>\n",
       "        <tr>\n",
       "            <td>503</td>\n",
       "            <td>True</td>\n",
       "            <td>0-3</td>\n",
       "        </tr>\n",
       "        <tr>\n",
       "            <td>730</td>\n",
       "            <td>False</td>\n",
       "            <td>12-24</td>\n",
       "        </tr>\n",
       "        <tr>\n",
       "            <td>294</td>\n",
       "            <td>True</td>\n",
       "            <td>12-24</td>\n",
       "        </tr>\n",
       "        <tr>\n",
       "            <td>3295</td>\n",
       "            <td>False</td>\n",
       "            <td>24+</td>\n",
       "        </tr>\n",
       "        <tr>\n",
       "            <td>538</td>\n",
       "            <td>True</td>\n",
       "            <td>24+</td>\n",
       "        </tr>\n",
       "        <tr>\n",
       "            <td>572</td>\n",
       "            <td>False</td>\n",
       "            <td>3-9</td>\n",
       "        </tr>\n",
       "        <tr>\n",
       "            <td>420</td>\n",
       "            <td>True</td>\n",
       "            <td>3-9</td>\n",
       "        </tr>\n",
       "        <tr>\n",
       "            <td>229</td>\n",
       "            <td>False</td>\n",
       "            <td>9-12</td>\n",
       "        </tr>\n",
       "        <tr>\n",
       "            <td>114</td>\n",
       "            <td>True</td>\n",
       "            <td>9-12</td>\n",
       "        </tr>\n",
       "    </tbody>\n",
       "</table>"
      ],
      "text/plain": [
       "[(348, False, '0-3'),\n",
       " (503, True, '0-3'),\n",
       " (730, False, '12-24'),\n",
       " (294, True, '12-24'),\n",
       " (3295, False, '24+'),\n",
       " (538, True, '24+'),\n",
       " (572, False, '3-9'),\n",
       " (420, True, '3-9'),\n",
       " (229, False, '9-12'),\n",
       " (114, True, '9-12')]"
      ]
     },
     "execution_count": 18,
     "metadata": {},
     "output_type": "execute_result"
    }
   ],
   "source": [
    "churn_tenure"
   ]
  },
  {
   "cell_type": "code",
   "execution_count": 21,
   "id": "e64fb243",
   "metadata": {},
   "outputs": [
    {
     "data": {
      "image/png": "[encoded data removed]",
      "text/plain": [
       "<Figure size 1200x500 with 2 Axes>"
      ]
     },
     "metadata": {},
     "output_type": "display_data"
    }
   ],
   "source": [
    "churn_tenure = pd.DataFrame(churn_tenure)\n",
    "\n",
    "fig, axes = plt.subplots(1, 2, figsize=(12, 5))\n",
    "\n",
    "ax1 = axes[0]\n",
    "pivot_df_pct = churn_tenure.pivot(index=\"tenure_category\", columns=\"churn_value\", values=\"count\")\n",
    "pivot_df_pct = pivot_df_pct.div(pivot_df_pct.sum(axis=1), axis=0) * 100\n",
    "pivot_df_pct.plot(kind=\"bar\", stacked=True, ax=ax1, color=[\"#2E8B57\", \"#DC143C\"])\n",
    "ax1.set_xlabel(\"Tenure Category (Months)\")\n",
    "ax1.set_ylabel(\"Percentage (%)\")\n",
    "ax1.tick_params(axis=\"x\", rotation=0)\n",
    "ax1.get_legend().remove()\n",
    "\n",
    "ax2 = axes[1]\n",
    "pivot_df = churn_tenure.pivot(index=\"tenure_category\", columns=\"churn_value\", values=\"count\")\n",
    "pivot_df.plot(kind=\"bar\", stacked=True, ax=ax2, color=[\"#2E8B57\", \"#DC143C\"])\n",
    "ax2.set_xlabel(\"Tenure Category (Months)\")\n",
    "ax2.set_ylabel(\"Customer Count\")\n",
    "ax2.tick_params(axis=\"x\", rotation=0)\n",
    "\n",
    "plt.tight_layout()\n",
    "plt.show()"
   ]
  },
  {
   "cell_type": "markdown",
   "id": "e1c3fdbd",
   "metadata": {},
   "source": [
    "As it turns out, we are loosing the clients that have been with the company the shortest, especially those in the 0 to 3 month tenure range. This could be a sign that special offers should be used to incentivise new clients to stay. It is also possible that our service is not up to standarts and we should improve the services that we offer. It could also be that these new clients were signed up with a promotion and they decided not to say. We should investigate further."
   ]
  }
 ],
 "metadata": {
  "kernelspec": {
   "display_name": ".venv (3.12.5)",
   "language": "python",
   "name": "python3"
  },
  "language_info": {
   "codemirror_mode": {
    "name": "ipython",
    "version": 3
   },
   "file_extension": ".py",
   "mimetype": "text/x-python",
   "name": "python",
   "nbconvert_exporter": "python",
   "pygments_lexer": "ipython3",
   "version": "3.12.5"
  }
 },
 "nbformat": 4,
 "nbformat_minor": 5
}
